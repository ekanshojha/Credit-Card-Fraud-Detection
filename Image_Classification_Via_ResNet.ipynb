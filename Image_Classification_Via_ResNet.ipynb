{
  "nbformat": 4,
  "nbformat_minor": 0,
  "metadata": {
    "colab": {
      "provenance": [],
      "gpuType": "T4",
      "mount_file_id": "1imTvXfr3kY3mbH1SoVLejqJZsM30TN3w",
      "authorship_tag": "ABX9TyPty9W8SaX9kTXkXytIxNyt",
      "include_colab_link": true
    },
    "kernelspec": {
      "name": "python3",
      "display_name": "Python 3"
    },
    "language_info": {
      "name": "python"
    },
    "accelerator": "GPU"
  },
  "cells": [
    {
      "cell_type": "markdown",
      "metadata": {
        "id": "view-in-github",
        "colab_type": "text"
      },
      "source": [
        "<a href=\"https://colab.research.google.com/github/ekanshojha/Credit-Card-Fraud-Detection/blob/main/Image_Classification_Via_ResNet.ipynb\" target=\"_parent\"><img src=\"https://colab.research.google.com/assets/colab-badge.svg\" alt=\"Open In Colab\"/></a>"
      ]
    },
    {
      "cell_type": "code",
      "execution_count": null,
      "metadata": {
        "id": "B-A49XWZ2_0Y"
      },
      "outputs": [],
      "source": [
        "import torch\n",
        "import torchvision"
      ]
    },
    {
      "cell_type": "code",
      "source": [
        "from torchvision import datasets\n",
        "import torchvision.transforms as tf\n",
        "from torch.utils.data import DataLoader\n",
        "from torchvision import models\n",
        "device=torch.device(\"cuda:0\")"
      ],
      "metadata": {
        "id": "s9kvP_WQ3UyG"
      },
      "execution_count": null,
      "outputs": []
    },
    {
      "cell_type": "code",
      "source": [
        "transform=tf.Compose([tf.ToTensor()])\n",
        "path=\"/content/drive/MyDrive/Colab Notebooks/flowers\"\n",
        "data=datasets.ImageFolder(path,transform)"
      ],
      "metadata": {
        "id": "XDS40ZmA4FQB"
      },
      "execution_count": null,
      "outputs": []
    },
    {
      "cell_type": "code",
      "source": [
        "print(data.classes)"
      ],
      "metadata": {
        "colab": {
          "base_uri": "https://localhost:8080/"
        },
        "id": "QvE4y0JB5ujc",
        "outputId": "48d2f5c9-ed90-44a0-a1bd-dc55f39c62ab"
      },
      "execution_count": null,
      "outputs": [
        {
          "output_type": "stream",
          "name": "stdout",
          "text": [
            "['iris-setosa', 'iris-versicolour', 'iris-virginica']\n"
          ]
        }
      ]
    },
    {
      "cell_type": "code",
      "source": [
        "print(len(data))"
      ],
      "metadata": {
        "colab": {
          "base_uri": "https://localhost:8080/"
        },
        "id": "npWai4P151XQ",
        "outputId": "6a49816c-574c-4aab-9699-e32938a29eb9"
      },
      "execution_count": null,
      "outputs": [
        {
          "output_type": "stream",
          "name": "stdout",
          "text": [
            "421\n"
          ]
        }
      ]
    },
    {
      "cell_type": "code",
      "source": [
        "from sklearn.model_selection import train_test_split\n",
        "train,test=train_test_split(data,test_size=0.2,random_state=42)\n",
        "print(len(train),\"-\",len(test))"
      ],
      "metadata": {
        "colab": {
          "base_uri": "https://localhost:8080/"
        },
        "id": "t1cHAsx06kUP",
        "outputId": "898eb7a6-c629-4fee-cc76-0a601ce724bc"
      },
      "execution_count": null,
      "outputs": [
        {
          "output_type": "stream",
          "name": "stdout",
          "text": [
            "336 - 85\n"
          ]
        }
      ]
    },
    {
      "cell_type": "code",
      "source": [
        "batch=1\n",
        "trainloader=DataLoader(train,batch_size=batch,shuffle=True)\n",
        "testloader=DataLoader(test,batch_size=batch,shuffle=True)"
      ],
      "metadata": {
        "id": "YIQoQMJO7VaP"
      },
      "execution_count": null,
      "outputs": []
    },
    {
      "cell_type": "code",
      "source": [
        "model=models.resnet50()\n",
        "model=model.to(device)"
      ],
      "metadata": {
        "id": "MSsnziGF7xrw"
      },
      "execution_count": null,
      "outputs": []
    },
    {
      "cell_type": "code",
      "source": [
        "import torch.optim as optim\n",
        "optimizer=optim.Adam(model.parameters(),lr=0.001)\n",
        "criteria=torch.nn.CrossEntropyLoss()\n",
        "numepochs=50\n",
        "for epoch in range(numepochs):\n",
        "  for images,labels in trainloader:\n",
        "    images=images.to(device)\n",
        "    labels=labels.to(device)\n",
        "    optimizer.zero_grad()\n",
        "    output=model(images)\n",
        "    loss=criteria(output,labels)\n",
        "    loss.backward()\n",
        "    optimizer.step()\n",
        "  print(\"Epoch: \",str(epoch+1),\"->Loss:\",loss.item()/len(images))"
      ],
      "metadata": {
        "id": "dJCELRF68bIq"
      },
      "execution_count": null,
      "outputs": []
    },
    {
      "cell_type": "code",
      "source": [
        "total=0\n",
        "correct=0\n",
        "with torch.no_grad():\n",
        "  for images,labels in testloader:\n",
        "    images=images.to(device)\n",
        "    labels=labels.to(device)\n",
        "    output=model(images)\n",
        "    _,predlabel=torch.max(output,1)\n",
        "    total=total+len(images)\n",
        "    correct+=torch.sum(predlabel==labels.data)\n",
        "\n",
        "print(\"Total : \",total,\" Correct: \", correct,\" accuracy: \",correct/total)"
      ],
      "metadata": {
        "colab": {
          "base_uri": "https://localhost:8080/"
        },
        "id": "6uT-5gAP9C2G",
        "outputId": "423dcaf3-7ff8-4634-f5a4-4396c4202bad"
      },
      "execution_count": null,
      "outputs": [
        {
          "output_type": "stream",
          "name": "stdout",
          "text": [
            "Total :  85  Correct:  tensor(48, device='cuda:0')  accuracy:  tensor(0.5647, device='cuda:0')\n"
          ]
        }
      ]
    },
    {
      "cell_type": "code",
      "source": [
        "import matplotlib.pyplot as plt\n",
        "ts=iter(testloader)\n",
        "image,label=next(ts)\n",
        "out=model(image.to(device))\n",
        "_,pred=out.max(1)\n",
        "print(data.classes[label[0]])\n",
        "print(data.classes[pred[0]])"
      ],
      "metadata": {
        "colab": {
          "base_uri": "https://localhost:8080/"
        },
        "id": "cT4ByGJhAa92",
        "outputId": "fced2dcb-2dd4-4984-ef95-512cc645202d"
      },
      "execution_count": null,
      "outputs": [
        {
          "output_type": "stream",
          "name": "stdout",
          "text": [
            "iris-virginica\n",
            "iris-versicolour\n"
          ]
        }
      ]
    }
  ]
}